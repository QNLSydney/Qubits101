{
 "cells": [
  {
   "cell_type": "code",
   "execution_count": null,
   "metadata": {
    "slideshow": {
     "slide_type": "skip"
    }
   },
   "outputs": [],
   "source": [
    "import numpy as np\n",
    "import matplotlib.pyplot as plt\n",
    "import qutip\n",
    "from scipy.linalg import expm, eig\n",
    "from scipy.constants import hbar"
   ]
  },
  {
   "cell_type": "markdown",
   "metadata": {
    "slideshow": {
     "slide_type": "slide"
    }
   },
   "source": [
    "# Time evolution of spin under fixed magnetic field"
   ]
  },
  {
   "cell_type": "markdown",
   "metadata": {
    "slideshow": {
     "slide_type": "slide"
    }
   },
   "source": [
    "Define the spin operators\n",
    "\n",
    "$\\hat{S}_z = \\frac{\\hbar}{2} \\begin{pmatrix} 1 & 0 \\\\ 0 & -1 \\end{pmatrix}$ $\\hat{S}_x = \\frac{\\hbar}{2} \\begin{pmatrix} 0 & 1 \\\\ 1 & 0 \\end{pmatrix}$ $\\hat{S}_y = \\frac{\\hbar}{2} \\begin{pmatrix} 0 & -i \\\\ i & 0 \\end{pmatrix}$"
   ]
  },
  {
   "cell_type": "code",
   "execution_count": null,
   "metadata": {
    "slideshow": {
     "slide_type": "fragment"
    }
   },
   "outputs": [],
   "source": [
    "sZ = hbar/2 * np.array([[1,0],\n",
    "                   [0,-1]])\n",
    "sX = hbar/2 * np.array([[0,1],\n",
    "                   [1,0]])\n",
    "sY = hbar/2 * np.array([[0,-1j],\n",
    "                   [1j,0]])"
   ]
  },
  {
   "cell_type": "markdown",
   "metadata": {
    "slideshow": {
     "slide_type": "slide"
    }
   },
   "source": [
    "Define the Hamiltonian $\\hat{H} = g \\mu_B B \\hat{S}_z = \\omega_0 \\hat{S}_z$"
   ]
  },
  {
   "cell_type": "code",
   "execution_count": null,
   "metadata": {
    "slideshow": {
     "slide_type": "fragment"
    }
   },
   "outputs": [],
   "source": [
    "omega0 = 2 * np.pi\n",
    "\n",
    "ham = omega0 * sZ\n",
    "print(ham)"
   ]
  },
  {
   "cell_type": "markdown",
   "metadata": {},
   "source": [
    "Extract eigenvalues and eigenvectors of Hamiltonian"
   ]
  },
  {
   "cell_type": "code",
   "execution_count": null,
   "metadata": {},
   "outputs": [],
   "source": [
    "eVal, eStates = eig(ham)\n",
    "print(eVal, eStates)"
   ]
  },
  {
   "cell_type": "markdown",
   "metadata": {
    "slideshow": {
     "slide_type": "slide"
    }
   },
   "source": [
    "Define an initial state $| \\psi(t=0) \\rangle = c_0 | E_0 \\rangle + c_1 | E_1 \\rangle = \\begin{pmatrix} c_0 \\\\ c_1 \\end{pmatrix}$"
   ]
  },
  {
   "cell_type": "code",
   "execution_count": null,
   "metadata": {
    "slideshow": {
     "slide_type": "fragment"
    }
   },
   "outputs": [],
   "source": [
    "#psi0 = np.array([1,0])\n",
    "psi0 = np.array([1,1])*1/np.sqrt(2)\n",
    "print(psi0)"
   ]
  },
  {
   "cell_type": "markdown",
   "metadata": {
    "slideshow": {
     "slide_type": "subslide"
    }
   },
   "source": [
    "Evolve the state in time using $| \\psi(t) \\rangle = c_0 e^{-i E_0 t / \\hbar} | E_0 \\rangle + c_1 e^{-i E_1 t / \\hbar} | E_1 \\rangle$"
   ]
  },
  {
   "cell_type": "code",
   "execution_count": null,
   "metadata": {
    "slideshow": {
     "slide_type": "fragment"
    }
   },
   "outputs": [],
   "source": [
    "time = np.linspace(0,0.95,96)\n",
    "psiT = []\n",
    "\n",
    "for t in time:\n",
    "    exps = np.array([np.exp(- 1j * eVal[0] * t / hbar), np.exp(- 1j * eVal[1] * t / hbar)])\n",
    "    psiT.append(psi0 * exps)"
   ]
  },
  {
   "cell_type": "markdown",
   "metadata": {
    "slideshow": {
     "slide_type": "subslide"
    }
   },
   "source": [
    "Save the expectation values of x, y and z (e.g. $\\langle \\psi_t | \\sigma_z | \\psi_t \\rangle$)"
   ]
  },
  {
   "cell_type": "code",
   "execution_count": null,
   "metadata": {
    "slideshow": {
     "slide_type": "fragment"
    }
   },
   "outputs": [],
   "source": [
    "x = [(p.conj().T @ sX @ p).real / hbar for p in psiT]\n",
    "y = [(p.conj().T @ sY @ p).real / hbar for p in psiT]\n",
    "z = [(p.conj().T @ sZ @ p).real / hbar for p in psiT]"
   ]
  },
  {
   "cell_type": "markdown",
   "metadata": {
    "slideshow": {
     "slide_type": "subslide"
    }
   },
   "source": [
    "Plot the evolution of the state"
   ]
  },
  {
   "cell_type": "code",
   "execution_count": null,
   "metadata": {
    "slideshow": {
     "slide_type": "-"
    }
   },
   "outputs": [],
   "source": [
    "def qubitPlots(time,x,y,z):\n",
    "    bsPlot = qutip.Bloch()\n",
    "    bsPlot.zlabel = ['$\\\\left|+\\\\right>$', '$\\\\left|-\\\\right>$']\n",
    "    bsPlot.add_points([np.array(x)*2, np.array(y)*2, np.array(z)*2])\n",
    "    bsPlot.render()\n",
    "    bsPlot.fig.set_size_inches([25,5])\n",
    "\n",
    "    ax1 = bsPlot.fig.add_subplot(133)\n",
    "    ax1.plot(time,x,label=\"x\")\n",
    "    ax1.plot(time,y,label=\"y\")\n",
    "    ax1.plot(time,z,label=\"z\")\n",
    "    ax1.legend()\n",
    "    ax1.set_xlabel(\"Time\")\n",
    "    ax1.set_ylabel(\"Expectation value\")\n",
    "\n",
    "    return bsPlot"
   ]
  },
  {
   "cell_type": "code",
   "execution_count": null,
   "metadata": {
    "slideshow": {
     "slide_type": "subslide"
    }
   },
   "outputs": [],
   "source": [
    "bsPlot = qubitPlots(time,x,y,z)\n",
    "bsPlot.show()"
   ]
  }
 ],
 "metadata": {
  "celltoolbar": "Slideshow",
  "kernelspec": {
   "display_name": "Python 3",
   "language": "python",
   "name": "python3"
  },
  "language_info": {
   "codemirror_mode": {
    "name": "ipython",
    "version": 3
   },
   "file_extension": ".py",
   "mimetype": "text/x-python",
   "name": "python",
   "nbconvert_exporter": "python",
   "pygments_lexer": "ipython3",
   "version": "3.9.7"
  },
  "vscode": {
   "interpreter": {
    "hash": "73ff1bd2e7abb6170a3322f78da0ef8f6fe776564866dedb31bfed4d110d7485"
   }
  }
 },
 "nbformat": 4,
 "nbformat_minor": 4
}
