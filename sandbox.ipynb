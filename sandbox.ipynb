{
 "cells": [
  {
   "cell_type": "code",
   "execution_count": 2,
   "metadata": {},
   "outputs": [],
   "source": [
    "import numpy as np\n",
    "from matplotlib import pyplot as plt"
   ]
  },
  {
   "cell_type": "code",
   "execution_count": 28,
   "metadata": {},
   "outputs": [
    {
     "data": {
      "text/plain": [
       "[<matplotlib.lines.Line2D at 0x255c0ed4f20>]"
      ]
     },
     "execution_count": 28,
     "metadata": {},
     "output_type": "execute_result"
    },
    {
     "data": {
      "image/png": "[encoded data removed]",
      "text/plain": [
       "<Figure size 640x480 with 1 Axes>"
      ]
     },
     "metadata": {},
     "output_type": "display_data"
    }
   ],
   "source": [
    "tunnel_rate = 10\n",
    "n = 1.5\n",
    "frequency = np.logspace(-1,2,501)\n",
    "tau = 1/frequency/2\n",
    "\n",
    "fit_lieven = 1 - np.pi**2/(tunnel_rate**2 * tau**2 + np.pi**2) # DOI: 10.1063/1.1757023\n",
    "fit_wh = np.exp(-(frequency/tunnel_rate)**n)\n",
    "\n",
    "plt.semilogx(frequency, fit_lieven, 'o')\n",
    "plt.semilogx(frequency, fit_wh, 'o')"
   ]
  },
  {
   "cell_type": "code",
   "execution_count": 18,
   "metadata": {},
   "outputs": [
    {
     "data": {
      "text/plain": [
       "0.2857142857142857"
      ]
     },
     "execution_count": 18,
     "metadata": {},
     "output_type": "execute_result"
    }
   ],
   "source": [
    "1 - np.pi**2/(10**2 * 0.5**2 + np.pi**2)\n",
    "10/35"
   ]
  },
  {
   "cell_type": "code",
   "execution_count": 1,
   "metadata": {},
   "outputs": [
    {
     "ename": "ModuleNotFoundError",
     "evalue": "No module named 'xarray'",
     "output_type": "error",
     "traceback": [
      "\u001b[1;31m---------------------------------------------------------------------------\u001b[0m",
      "\u001b[1;31mModuleNotFoundError\u001b[0m                       Traceback (most recent call last)",
      "Cell \u001b[1;32mIn[1], line 1\u001b[0m\n\u001b[1;32m----> 1\u001b[0m \u001b[38;5;28;01mimport\u001b[39;00m \u001b[38;5;21;01mxarray\u001b[39;00m \u001b[38;5;28;01mas\u001b[39;00m \u001b[38;5;21;01mxr\u001b[39;00m\n",
      "\u001b[1;31mModuleNotFoundError\u001b[0m: No module named 'xarray'"
     ]
    }
   ],
   "source": [
    "import xarray as xr\n",
    "\n",
    "dataset = xr.Dataset()"
   ]
  },
  {
   "cell_type": "code",
   "execution_count": 8,
   "metadata": {},
   "outputs": [
    {
     "data": {
      "text/plain": [
       "1.602176634e-19"
      ]
     },
     "execution_count": 8,
     "metadata": {},
     "output_type": "execute_result"
    }
   ],
   "source": [
    "def add_extracted_parameters_to_datset(dataset, )"
   ]
  },
  {
   "cell_type": "code",
   "execution_count": null,
   "metadata": {},
   "outputs": [
    {
     "name": "stdout",
     "output_type": "stream",
     "text": [
      "2.2812234243673972e-15 2.6946910185959788e-08 0.012 1.3351471949999999e-17 3.1e-17\n"
     ]
    }
   ],
   "source": [
    "import xarray as xr\n",
    "import numpy as np\n",
    "\n",
    "# Initialize an empty dataset\n",
    "dataset = xr.Dataset()\n",
    "\n",
    "# Function to add new data to the dataset\n",
    "def add_data_to_dataset(dataset, device, guid, new_params):\n",
    "    # Create new DataArrays for the new data\n",
    "    new_data = {\n",
    "        'param1': xr.DataArray([new_params.get('param1', np.nan)], dims=['device', 'guid'], coords={'device': [device], 'guid': [guid]}),\n",
    "        'param2': xr.DataArray([new_params.get('param2', np.nan)], dims=['device', 'guid'], coords={'device': [device], 'guid': [guid]}),\n",
    "        'param3': xr.DataArray([new_params.get('param3', np.nan)], dims=['device', 'guid'], coords={'device': [device], 'guid': [guid]}),\n",
    "        'param4': xr.DataArray([new_params.get('param4', np.nan)], dims=['device', 'guid'], coords={'device': [device], 'guid': [guid]}),\n",
    "        'param5': xr.DataArray([new_params.get('param5', np.nan)], dims=['device', 'guid'], coords={'device': [device], 'guid': [guid]})\n",
    "    }\n",
    "    \n",
    "    # Concatenate the new data with the existing dataset\n",
    "    for param, data_array in new_data.items():\n",
    "        if param in dataset:\n",
    "            dataset[param] = xr.concat([dataset[param], data_array], dim='device')\n",
    "        else:\n",
    "            dataset[param] = data_array\n",
    "\n",
    "    return dataset\n",
    "\n",
    "# Example of adding new data to the dataset\n",
    "new_params_device1_guid1 = {'param1': 1.0, 'param2': 0.5, 'param4': 0.3}\n",
    "dataset = add_data_to_dataset(dataset, 'device1', 'guid1', new_params_device1_guid1)\n",
    "\n",
    "new_params_device2_guid3 = {'param1': 1.1, 'param3': 1.2, 'param5': 1.1}\n",
    "dataset = add_data_to_dataset(dataset, 'device2', 'guid3', new_params_device2_guid3)\n",
    "\n",
    "# Adding another device and guid\n",
    "new_params_device3_guid4 = {'param1': 2.0, 'param2': 1.5, 'param3': 1.8, 'param4': 1.3, 'param5': 1.7}\n",
    "dataset = add_data_to_dataset(dataset, 'device3', 'guid4', new_params_device3_guid4)"
   ]
  },
  {
   "cell_type": "code",
   "execution_count": 19,
   "metadata": {},
   "outputs": [
    {
     "data": {
      "text/plain": [
       "1.602176634e-19"
      ]
     },
     "execution_count": 19,
     "metadata": {},
     "output_type": "execute_result"
    }
   ],
   "source": [
    "e"
   ]
  },
  {
   "cell_type": "code",
   "execution_count": 18,
   "metadata": {},
   "outputs": [
    {
     "data": {
      "text/plain": [
       "0.000801088317"
      ]
     },
     "execution_count": 18,
     "metadata": {},
     "output_type": "execute_result"
    }
   ],
   "source": [
    "e / 200e-18"
   ]
  }
 ],
 "metadata": {
  "kernelspec": {
   "display_name": "jp",
   "language": "python",
   "name": "python3"
  },
  "language_info": {
   "codemirror_mode": {
    "name": "ipython",
    "version": 3
   },
   "file_extension": ".py",
   "mimetype": "text/x-python",
   "name": "python",
   "nbconvert_exporter": "python",
   "pygments_lexer": "ipython3",
   "version": "3.12.9"
  }
 },
 "nbformat": 4,
 "nbformat_minor": 2
}
