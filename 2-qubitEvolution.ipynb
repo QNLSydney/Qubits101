{
 "cells": [
  {
   "cell_type": "code",
   "execution_count": null,
   "metadata": {
    "slideshow": {
     "slide_type": "skip"
    }
   },
   "outputs": [],
   "source": [
    "import numpy as np\n",
    "import matplotlib.pyplot as plt\n",
    "import qutip\n",
    "from scipy.linalg import expm\n",
    "from scipy.constants import hbar\n",
    "\n",
    "np.set_printoptions(precision=2)"
   ]
  },
  {
   "cell_type": "markdown",
   "metadata": {
    "slideshow": {
     "slide_type": "slide"
    }
   },
   "source": [
    "# 2 qubits with exchange interaction"
   ]
  },
  {
   "cell_type": "markdown",
   "metadata": {
    "slideshow": {
     "slide_type": "slide"
    }
   },
   "source": [
    "Define the two-spin Pauli matrices, e.g.:\n",
    "\n",
    "$\\sigma_{1,z} = \\begin{pmatrix} 1 & 0 \\\\ 0 & -1 \\end{pmatrix} \\otimes \\mathcal{I}$\n",
    "\n",
    "$\\sigma_{1,x} = \\begin{pmatrix} 0 & 1 \\\\ 1 & 0 \\end{pmatrix} \\otimes \\mathcal{I}$\n",
    "\n",
    "$\\sigma_{1,y} = \\begin{pmatrix} 0 & -i \\\\ i & 0 \\end{pmatrix} \\otimes \\mathcal{I}$"
   ]
  },
  {
   "cell_type": "code",
   "execution_count": null,
   "metadata": {
    "slideshow": {
     "slide_type": "subslide"
    }
   },
   "outputs": [],
   "source": [
    "identity = np.array([[1,0],[0,1]])\n",
    "\n",
    "sigma1Z = np.kron(np.array([[1,0],[0,-1]]),identity)\n",
    "sigma1X = np.kron(np.array([[0,1],[1,0]]),identity)\n",
    "sigma1Y = np.kron(np.array([[0,-1j],[1j,0]]),identity)\n",
    "\n",
    "sigma2Z = np.kron(identity,np.array([[1,0],[0,-1]]))\n",
    "sigma2X = np.kron(identity,np.array([[0,1],[1,0]]))\n",
    "sigma2Y = np.kron(identity,np.array([[0,-1j],[1j,0]]))"
   ]
  },
  {
   "cell_type": "markdown",
   "metadata": {
    "slideshow": {
     "slide_type": "slide"
    }
   },
   "source": [
    "Define the Hamiltonian $\\mathcal{H} = \\frac{J}{2} \\mathbf(S_1 S_2) = J \\frac{\\hbar}{4} (\\sigma_{x,1}\\sigma_{x,2} + \\sigma_{y,1}\\sigma_{y,2} + \\sigma_{z,1}\\sigma_{z,2})$"
   ]
  },
  {
   "cell_type": "code",
   "execution_count": null,
   "metadata": {
    "scrolled": true,
    "slideshow": {
     "slide_type": "fragment"
    }
   },
   "outputs": [],
   "source": [
    "J = 2 * np.pi\n",
    "\n",
    "H = J * hbar/4 * (sigma1X@sigma2X + sigma1Y@sigma2Y + sigma1Z@sigma2Z)\n",
    "print(H)"
   ]
  },
  {
   "cell_type": "markdown",
   "metadata": {
    "slideshow": {
     "slide_type": "slide"
    }
   },
   "source": [
    "Initialise qubit states and form a two qubit state $| \\psi \\rangle = | \\psi_1 \\rangle \\otimes | \\psi_2 \\rangle$"
   ]
  },
  {
   "cell_type": "code",
   "execution_count": null,
   "metadata": {
    "slideshow": {
     "slide_type": "fragment"
    }
   },
   "outputs": [],
   "source": [
    "psi1 = np.array([1,0])\n",
    "psi2 = np.array([1,1])/np.sqrt(2)\n",
    "psi0 = np.kron(psi1,psi2)\n",
    "print(psi0)"
   ]
  },
  {
   "cell_type": "markdown",
   "metadata": {
    "slideshow": {
     "slide_type": "slide"
    }
   },
   "source": [
    "Evolve the state in time using $| \\psi_t \\rangle = U(t) | \\psi_0 \\rangle$ with $U(t) = e^{\\frac{-i H t}{\\hbar}}$"
   ]
  },
  {
   "cell_type": "code",
   "execution_count": null,
   "metadata": {
    "slideshow": {
     "slide_type": "fragment"
    }
   },
   "outputs": [],
   "source": [
    "time = np.linspace(0,0.5,101)\n",
    "psiT = []\n",
    "\n",
    "for t in time:\n",
    "    psiT.append(expm(-1j*H*t/hbar) @ psi0)"
   ]
  },
  {
   "cell_type": "markdown",
   "metadata": {
    "slideshow": {
     "slide_type": "slide"
    }
   },
   "source": [
    "Save the expectation values of x, y and z (e.g. $\\langle x_1 \\rangle = \\langle \\psi_t | \\sigma_{1,x} | \\psi_t \\rangle$)"
   ]
  },
  {
   "cell_type": "code",
   "execution_count": null,
   "metadata": {
    "slideshow": {
     "slide_type": "fragment"
    }
   },
   "outputs": [],
   "source": [
    "x1 = [(p.conj().T @ sigma1X @ p).real for p in psiT]\n",
    "y1 = [(p.conj().T @ sigma1Y @ p).real for p in psiT]\n",
    "z1 = [(p.conj().T @ sigma1Z @ p).real for p in psiT]\n",
    "\n",
    "x2 = [(p.conj().T @ sigma2X @ p).real for p in psiT]\n",
    "y2 = [(p.conj().T @ sigma2Y @ p).real for p in psiT]\n",
    "z2 = [(p.conj().T @ sigma2Z @ p).real for p in psiT]"
   ]
  },
  {
   "cell_type": "markdown",
   "metadata": {
    "slideshow": {
     "slide_type": "subslide"
    }
   },
   "source": [
    "Plot the evolution of the states"
   ]
  },
  {
   "cell_type": "code",
   "execution_count": null,
   "metadata": {
    "slideshow": {
     "slide_type": "-"
    }
   },
   "outputs": [],
   "source": [
    "def qubitPlots(time,x,y,z):\n",
    "    bsPlot = qutip.Bloch()\n",
    "    for xi,yi,zi in zip(x,y,z):\n",
    "        bsPlot.add_points([xi, yi, zi])\n",
    "    bsPlot.render(bsPlot.fig, bsPlot.axes)\n",
    "    bsPlot.fig.set_size_inches([25,5])"
   ]
  },
  {
   "cell_type": "code",
   "execution_count": null,
   "metadata": {
    "slideshow": {
     "slide_type": "subslide"
    }
   },
   "outputs": [],
   "source": [
    "qubitPlots(time,[x1,x2],[y1,y2],[z1,z2])"
   ]
  }
 ],
 "metadata": {
  "celltoolbar": "Slideshow",
  "kernelspec": {
   "display_name": "Python 3",
   "language": "python",
   "name": "python3"
  },
  "language_info": {
   "codemirror_mode": {
    "name": "ipython",
    "version": 3
   },
   "file_extension": ".py",
   "mimetype": "text/x-python",
   "name": "python",
   "nbconvert_exporter": "python",
   "pygments_lexer": "ipython3",
   "version": "3.8.5"
  }
 },
 "nbformat": 4,
 "nbformat_minor": 4
}
