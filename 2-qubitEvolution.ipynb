{
 "cells": [
  {
   "cell_type": "code",
   "execution_count": null,
   "metadata": {
    "slideshow": {
     "slide_type": "skip"
    }
   },
   "outputs": [],
   "source": [
    "import numpy as np\n",
    "import matplotlib.pyplot as plt\n",
    "import qutip\n",
    "from scipy.linalg import expm, eigh\n",
    "from scipy.constants import hbar\n",
    "\n",
    "np.set_printoptions(precision=2)"
   ]
  },
  {
   "cell_type": "markdown",
   "metadata": {
    "slideshow": {
     "slide_type": "slide"
    }
   },
   "source": [
    "# 2 qubits with exchange interaction"
   ]
  },
  {
   "cell_type": "markdown",
   "metadata": {
    "slideshow": {
     "slide_type": "slide"
    }
   },
   "source": [
    "Define the two-spin Pauli matrices, e.g.:\n",
    "\n",
    "$\\sigma_{1,z} = \\begin{pmatrix} 1 & 0 \\\\ 0 & -1 \\end{pmatrix} \\otimes \\mathcal{I}$\n",
    "\n",
    "$\\sigma_{1,x} = \\begin{pmatrix} 0 & 1 \\\\ 1 & 0 \\end{pmatrix} \\otimes \\mathcal{I}$\n",
    "\n",
    "$\\sigma_{1,y} = \\begin{pmatrix} 0 & -i \\\\ i & 0 \\end{pmatrix} \\otimes \\mathcal{I}$"
   ]
  },
  {
   "cell_type": "code",
   "execution_count": null,
   "metadata": {
    "slideshow": {
     "slide_type": "subslide"
    }
   },
   "outputs": [],
   "source": [
    "sigma1Z = np.kron(np.array([[1,0],[0,-1]]),np.identity(2))\n",
    "sigma1X = np.kron(np.array([[0,1],[1,0]]),np.identity(2))\n",
    "sigma1Y = np.kron(np.array([[0,-1j],[1j,0]]),np.identity(2))\n",
    "\n",
    "sigma2Z = np.kron(np.identity(2),np.array([[1,0],[0,-1]]))\n",
    "sigma2X = np.kron(np.identity(2),np.array([[0,1],[1,0]]))\n",
    "sigma2Y = np.kron(np.identity(2),np.array([[0,-1j],[1j,0]]))"
   ]
  },
  {
   "cell_type": "markdown",
   "metadata": {},
   "source": [
    "In the 1-qubit script we defined the basis of the single-spin Hamiltonian as $\\{|\\uparrow\\rangle, |\\downarrow\\rangle\\}$. Similarly, the basis of Hamiltonians defined using the Pauli matrices above will be $\\{|\\uparrow\\uparrow\\rangle, |\\uparrow\\downarrow\\rangle, |\\downarrow\\uparrow\\rangle, |\\downarrow\\downarrow\\rangle\\}$"
   ]
  },
  {
   "cell_type": "markdown",
   "metadata": {
    "slideshow": {
     "slide_type": "slide"
    }
   },
   "source": [
    "Define the exchange Hamiltonian $\\mathcal{H} = \\frac{J}{2} \\mathbf{S_1 S_2} = J \\frac{\\hbar}{4} (\\sigma_{x,1}\\sigma_{x,2} + \\sigma_{y,1}\\sigma_{y,2} + \\sigma_{z,1}\\sigma_{z,2})$"
   ]
  },
  {
   "cell_type": "code",
   "execution_count": null,
   "metadata": {
    "scrolled": true,
    "slideshow": {
     "slide_type": "fragment"
    }
   },
   "outputs": [],
   "source": [
    "J = 2 * np.pi\n",
    "\n",
    "H = J * hbar/4 * (sigma1X@sigma2X + sigma1Y@sigma2Y + sigma1Z@sigma2Z)\n",
    "print(H)"
   ]
  },
  {
   "cell_type": "markdown",
   "metadata": {},
   "source": [
    "## Eigenstates and energies of the exchange hamiltonian"
   ]
  },
  {
   "cell_type": "code",
   "execution_count": null,
   "metadata": {},
   "outputs": [],
   "source": [
    "energies, states = eigh(H)\n",
    "print(states)\n",
    "print(energies/J/hbar)"
   ]
  },
  {
   "cell_type": "markdown",
   "metadata": {},
   "source": [
    "There is one lowest energy state called the singlet: \n",
    "$|S\\rangle = \\frac{1}{\\sqrt{2}} \\left( |\\uparrow\\downarrow\\rangle - |\\downarrow\\uparrow\\rangle \\right)$\n",
    "\n",
    "and three degenerate energy states, $J\\hbar$ above, called the triplets:\n",
    "$\\\\|T_+\\rangle = |\\uparrow\\uparrow\\rangle\\\\\n",
    "|T_0\\rangle = \\frac{1}{\\sqrt{2}} \\left( |\\uparrow\\downarrow\\rangle + |\\downarrow\\uparrow\\rangle \\right)\\\\\n",
    "|T_-\\rangle = |\\downarrow\\downarrow\\rangle$"
   ]
  },
  {
   "cell_type": "markdown",
   "metadata": {
    "slideshow": {
     "slide_type": "slide"
    }
   },
   "source": [
    "## Time evolution of the spins with exchange interaction\n",
    "Initialise qubit states and form a two qubit state $| \\psi \\rangle = | \\psi_1 \\rangle \\otimes | \\psi_2 \\rangle$"
   ]
  },
  {
   "cell_type": "code",
   "execution_count": null,
   "metadata": {
    "slideshow": {
     "slide_type": "fragment"
    }
   },
   "outputs": [],
   "source": [
    "psi1 = np.array([[1],[0]])\n",
    "psi2 = np.array([[1],[1]])/np.sqrt(2)\n",
    "psi0 = np.kron(psi1,psi2)\n",
    "print(psi0)"
   ]
  },
  {
   "cell_type": "markdown",
   "metadata": {
    "slideshow": {
     "slide_type": "slide"
    }
   },
   "source": [
    "Evolve the state in time using $| \\psi_t \\rangle = U(t) | \\psi_0 \\rangle$ with $U(t) = e^{\\frac{-i H t}{\\hbar}}$"
   ]
  },
  {
   "cell_type": "code",
   "execution_count": null,
   "metadata": {
    "slideshow": {
     "slide_type": "fragment"
    }
   },
   "outputs": [],
   "source": [
    "time = np.linspace(0,0.5,101)\n",
    "psiT = []\n",
    "\n",
    "for t in time:\n",
    "    psiT.append(expm(-1j*H*t/hbar) @ psi0)"
   ]
  },
  {
   "cell_type": "markdown",
   "metadata": {
    "slideshow": {
     "slide_type": "slide"
    }
   },
   "source": [
    "Save the expectation values of x, y and z (e.g. $\\langle x_1 \\rangle = \\langle \\psi_t | \\sigma_{1,x} | \\psi_t \\rangle$)"
   ]
  },
  {
   "cell_type": "code",
   "execution_count": null,
   "metadata": {
    "slideshow": {
     "slide_type": "fragment"
    }
   },
   "outputs": [],
   "source": [
    "ev = lambda psi,oper: (psi.conj().T @ oper @ psi).real[0,0]\n",
    "\n",
    "x1 = [ev(p, sigma1X) for p in psiT]\n",
    "y1 = [ev(p, sigma1Y) for p in psiT]\n",
    "z1 = [ev(p, sigma1Z) for p in psiT]\n",
    "\n",
    "x2 = [ev(p, sigma2X) for p in psiT]\n",
    "y2 = [ev(p, sigma2Y) for p in psiT]\n",
    "z2 = [ev(p, sigma2Z) for p in psiT]\n"
   ]
  },
  {
   "cell_type": "markdown",
   "metadata": {
    "slideshow": {
     "slide_type": "subslide"
    }
   },
   "source": [
    "Plot the evolution of the states"
   ]
  },
  {
   "cell_type": "code",
   "execution_count": null,
   "metadata": {
    "slideshow": {
     "slide_type": "-"
    }
   },
   "outputs": [],
   "source": [
    "def qubitPlots(time,x,y,z):\n",
    "    bsPlot = qutip.Bloch()\n",
    "    for xi,yi,zi in zip(x,y,z):\n",
    "        bsPlot.add_points([xi, yi, zi])\n",
    "    bsPlot.render()\n",
    "    bsPlot.fig.set_size_inches([25,5])\n",
    "    bsPlot.show()"
   ]
  },
  {
   "cell_type": "code",
   "execution_count": null,
   "metadata": {
    "slideshow": {
     "slide_type": "subslide"
    }
   },
   "outputs": [],
   "source": [
    "qubitPlots(time,[x1,x2],[y1,y2],[z1,z2])"
   ]
  },
  {
   "cell_type": "markdown",
   "metadata": {},
   "source": [
    "For obvious reasons, this is operation is known as SWAP"
   ]
  },
  {
   "cell_type": "code",
   "execution_count": null,
   "metadata": {},
   "outputs": [],
   "source": []
  },
  {
   "cell_type": "markdown",
   "metadata": {},
   "source": [
    "## Exchange interaction with detuned spins: controlled-phase (CZ) and controlled-rotation (CROT)\n",
    "\n",
    "Let's now consider what happens if one of the spins is detuned in frequency by an amount $\\Delta_q$. To simulate this, we need to start from the more fundamental Hubbard model, which includes the interplay between hopping $(t_0)$ and on-site $(U)$ interactions. For the case of two interacting spins, we can use the basis $\\{|\\uparrow\\uparrow\\rangle, |\\uparrow\\downarrow\\rangle, |\\downarrow\\uparrow\\rangle, |\\downarrow\\downarrow\\rangle, |S_{20}\\rangle\\}$. The new dimension $|S_{20}\\rangle$ is the state where both electrons occupy the same site. In addition, we will add terms to describe a global drive on the qubits, with amplitude $(\\Omega)$ and detuning $(\\Delta_{rf})$. In the above basis the Hamiltonian is:\n",
    "\n",
    "$\\mathcal{H} = \\begin{bmatrix}\n",
    "    \\Delta_{rf} & \\Omega & \\Omega & 0 & 0 \\\\\n",
    "    \\Omega & \\frac{\\Delta_q}{2} & 0 & \\Omega & t_0 \\\\\n",
    "    \\Omega & 0 & -\\frac{\\Delta_q}{2} & \\Omega & -t_0 \\\\\n",
    "    0 & \\Omega & \\Omega & \\Delta_{rf} & 0 \\\\\n",
    "    0 & t_0 & -t_0 & 0 & U \n",
    "\\end{bmatrix}$\n",
    "\n",
    "Notice that only opposing-spin states couple to the $|S_{20}\\rangle$, because of the Pauli exclusion principle"
   ]
  },
  {
   "cell_type": "code",
   "execution_count": null,
   "metadata": {},
   "outputs": [],
   "source": [
    "H11 = lambda delta_q, delta_rf, omega: delta_q/2 * (sigma1Z - sigma2Z) + delta_rf * (sigma1Z + sigma2Z) + omega * (sigma1X + sigma2X)\n",
    "H20 = lambda U: U * np.identity(1)\n",
    "T = lambda tunnel: np.array([[0, tunnel, -tunnel, 0]])\n",
    "H = lambda delta_q, delta_rf, omega, tunnel, U: np.block([[H11(delta_q,delta_rf,omega), T(tunnel).T],\n",
    "                                                          [T(tunnel), H20(U)]])"
   ]
  },
  {
   "cell_type": "markdown",
   "metadata": {},
   "source": [
    "To simplify the following cells, let's add a function that simulates time evolution and outputs the expectation value for each qubit:"
   ]
  },
  {
   "cell_type": "code",
   "execution_count": null,
   "metadata": {},
   "outputs": [],
   "source": [
    "def simulate2SpinHubbard(time, psi0, H):\n",
    "    x1,y1,z1,x2,y2,z2 = ([] for _ in range(6))\n",
    "    for t in time:\n",
    "        psiT = expm(-1j*H*t) @ psi0\n",
    "        x1.append(ev(psiT[:-1], sigma1X))\n",
    "        y1.append(ev(psiT[:-1], sigma1Y))\n",
    "        z1.append(ev(psiT[:-1], sigma1Z))\n",
    "        x2.append(ev(psiT[:-1], sigma2X))\n",
    "        y2.append(ev(psiT[:-1], sigma2Y))\n",
    "        z2.append(ev(psiT[:-1], sigma2Z))\n",
    "    return x1,y1,z1,x2,y2,z2"
   ]
  },
  {
   "cell_type": "markdown",
   "metadata": {},
   "source": [
    "### CZ operations with pulsed exchange and no driving"
   ]
  },
  {
   "cell_type": "code",
   "execution_count": null,
   "metadata": {},
   "outputs": [],
   "source": [
    "J = 2 * np.pi\n",
    "U = 1e3\n",
    "delta_rf = 0\n",
    "omega = 0\n",
    "\n",
    "### Things to try (uncomment the step that you want to test):\n",
    "# 1. Check that without detuning, you get the same SWAP operation:\n",
    "tunnel = np.sqrt(J*U) / 2\n",
    "delta_q = 0\n",
    "time = np.linspace(0,1,101)\n",
    "\n",
    "# 2. Add detuning and check that you get the expected result (i.e., spins rotate in the xy plane at detuning frequency)\n",
    "# tunnel = 0\n",
    "# delta_q = 2 * np.pi\n",
    "# time = np.linspace(0, 0.95, 101)\n",
    "\n",
    "# 3. Add both, and compare what happens when control qubit (psi1) starts up vs down\n",
    "# tunnel = np.sqrt(J*U) / 2\n",
    "# delta_q = np.sqrt(2) * tunnel\n",
    "# time = np.arange(0, np.pi, 2*np.pi/delta_q) # note that by sampling at 2*np.pi/delta_q, we are effectively moving to a rotating frame\n",
    "\n",
    "print(H(delta_q,delta_rf,omega,tunnel,U))"
   ]
  },
  {
   "cell_type": "code",
   "execution_count": null,
   "metadata": {},
   "outputs": [],
   "source": [
    "psi1 = np.array([[1],[0]])#/np.sqrt(2)\n",
    "psi2 = np.array([[1],[1]])/np.sqrt(2)\n",
    "psi0 = np.block([[np.kron(psi1,psi2)], [0]])\n",
    "\n",
    "x1,y1,z1,x2,y2,z2 = simulate2SpinHubbard(time, psi0, H(delta_q,delta_rf,omega,tunnel,U))\n",
    "qubitPlots(time,[x1,x2],[y1,y2],[z1,z2])"
   ]
  },
  {
   "cell_type": "markdown",
   "metadata": {},
   "source": [
    "The controlled-phase (CP) rotations can be used to construct a CNOT gate, by applying the sequence $X_{2,\\frac{\\pi}{2}} - CP_\\frac{\\pi}{4} - Y_{2,\\frac{\\pi}{2}}$"
   ]
  },
  {
   "cell_type": "markdown",
   "metadata": {},
   "source": [
    "### Driven CROT operations with fixed exchange \n",
    "\n",
    "#### Control of detuned qubits\n",
    "\n",
    "Let's now introduce the driving terms to realise CROT operations. Let's first turn off the exchange and confirm that we can drive rotations on the spins:"
   ]
  },
  {
   "cell_type": "code",
   "execution_count": null,
   "metadata": {},
   "outputs": [],
   "source": [
    "delta_rf = 0\n",
    "omega = np.pi\n",
    "delta_q = 0\n",
    "tunnel = 0\n",
    "\n",
    "time = np.linspace(0,0.95,101)\n",
    "psi1 = np.array([[1],[0]])\n",
    "psi2 = np.array([[1],[0]])\n",
    "psi0 = np.block([[np.kron(psi1,psi2)], [0]])\n",
    "x1,y1,z1,x2,y2,z2 = simulate2SpinHubbard(time, psi0, H(delta_q,delta_rf,omega,tunnel,U))\n",
    "qubitPlots(time,[x1,x2],[y1,y2],[z1,z2])"
   ]
  },
  {
   "cell_type": "markdown",
   "metadata": {},
   "source": [
    "Both spins are degenerate and are being driven by a global resonant field, so they rotate together. \n",
    "\n",
    "Now try setting a qubit detuning (e.g. `delta_q = 100`) and see what happens. What do you need to do now to control your spins?"
   ]
  },
  {
   "cell_type": "markdown",
   "metadata": {},
   "source": [
    "#### What happens when we add exchange coupling?\n",
    "\n",
    "To understand this, we will apply a drive for a fixed period of time and measure each qubit state at the end of the drive. We can then make plot of this measurement as a function of drive frequency and exchange coupling.\n",
    "\n",
    "Play around with different combinations of initial qubit states, to try to understand what happens when the exchange is turned on."
   ]
  },
  {
   "cell_type": "code",
   "execution_count": null,
   "metadata": {},
   "outputs": [],
   "source": [
    "U = 1e4\n",
    "delta_rf = np.linspace(-100,100,101)\n",
    "omega = np.pi\n",
    "delta_q = 100\n",
    "tunnel = np.linspace(0,500,101)\n",
    "time = 10.5\n",
    "psi2 = np.array([[1],[0]])\n",
    "psi1 = np.array([[1],[0]])\n",
    "# time = 10.25\n",
    "# psi1 = np.array([[1],[1j]])/np.sqrt(2)\n",
    "# psi2 = np.array([[1],[1j]])/np.sqrt(2)\n",
    "psi0 = np.block([[np.kron(psi1,psi2)], [0]])\n",
    "\n",
    "z1,z2 = (np.zeros([len(delta_rf),len(tunnel)]) for _ in range(2))\n",
    "for id,d in enumerate(delta_rf):\n",
    "    for it,t in enumerate(tunnel):\n",
    "        psiT = expm(-1j*H(delta_q,d,omega,t,U)*time) @ psi0\n",
    "        z1[id,it] = ev(psiT[:-1], sigma1Z)\n",
    "        z2[id,it] = ev(psiT[:-1], sigma2Z)\n",
    "        \n",
    "fig, axs = plt.subplots(1,2)\n",
    "axs[0].pcolormesh(tunnel, delta_rf, z1, shading=\"nearest\")\n",
    "im = axs[1].pcolormesh(tunnel, delta_rf, z2, shading=\"nearest\")\n",
    "fig.colorbar(im, ax=axs[1])\n",
    "axs[0].set_title(\"Qubit 1 measurement\")\n",
    "axs[1].set_title(\"Qubit 2 measurement\")\n",
    "axs[0].set_xlabel(\"$t_0$\")\n",
    "axs[1].set_xlabel(\"$t_0$\")\n",
    "axs[0].set_ylabel(\"Detuning\")"
   ]
  },
  {
   "cell_type": "markdown",
   "metadata": {},
   "source": [
    "When we turn on the coupling, we get separate qubit control frequencies, that depend on the state of the other qubit. How do we use this to make a CNOT gate?"
   ]
  }
 ],
 "metadata": {
  "celltoolbar": "Slideshow",
  "kernelspec": {
   "display_name": "Python 3",
   "language": "python",
   "name": "python3"
  },
  "language_info": {
   "codemirror_mode": {
    "name": "ipython",
    "version": 3
   },
   "file_extension": ".py",
   "mimetype": "text/x-python",
   "name": "python",
   "nbconvert_exporter": "python",
   "pygments_lexer": "ipython3",
   "version": "3.12.6"
  }
 },
 "nbformat": 4,
 "nbformat_minor": 4
}
