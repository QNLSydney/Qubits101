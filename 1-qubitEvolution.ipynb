{
 "cells": [
  {
   "cell_type": "code",
   "execution_count": null,
   "metadata": {
    "slideshow": {
     "slide_type": "skip"
    }
   },
   "outputs": [],
   "source": [
    "import numpy as np\n",
    "import matplotlib.pyplot as plt\n",
    "import qutip\n",
    "from scipy.linalg import expm\n",
    "from scipy.constants import hbar"
   ]
  },
  {
   "cell_type": "markdown",
   "metadata": {
    "slideshow": {
     "slide_type": "slide"
    }
   },
   "source": [
    "# Qubit evolution in the lab frame"
   ]
  },
  {
   "cell_type": "markdown",
   "metadata": {
    "slideshow": {
     "slide_type": "slide"
    }
   },
   "source": [
    "Define the Pauli matrices\n",
    "\n",
    "$\\sigma_z = \\begin{pmatrix} 1 & 0 \\\\ 0 & -1 \\end{pmatrix}$ $\\sigma_x = \\begin{pmatrix} 0 & 1 \\\\ 1 & 0 \\end{pmatrix}$ $\\sigma_y = \\begin{pmatrix} 0 & -i \\\\ i & 0 \\end{pmatrix}$"
   ]
  },
  {
   "cell_type": "code",
   "execution_count": null,
   "metadata": {
    "slideshow": {
     "slide_type": "fragment"
    }
   },
   "outputs": [],
   "source": [
    "sigmaZ = np.array([[1,0],\n",
    "                   [0,-1]])\n",
    "sigmaX = np.array([[0,1],\n",
    "                   [1,0]])\n",
    "sigmaY = np.array([[0,-1j],\n",
    "                   [1j,0]])"
   ]
  },
  {
   "cell_type": "markdown",
   "metadata": {
    "slideshow": {
     "slide_type": "slide"
    }
   },
   "source": [
    "Define the Hamiltonian $\\mathcal{H} = \\frac{\\hbar}{2} \\omega \\sigma_z$"
   ]
  },
  {
   "cell_type": "code",
   "execution_count": null,
   "metadata": {
    "slideshow": {
     "slide_type": "fragment"
    }
   },
   "outputs": [],
   "source": [
    "omega = 2 * np.pi\n",
    "\n",
    "H = hbar/2 * omega * sigmaZ\n",
    "print(H)"
   ]
  },
  {
   "cell_type": "markdown",
   "metadata": {
    "slideshow": {
     "slide_type": "slide"
    }
   },
   "source": [
    "Define an initial state $| \\psi_0 \\rangle = c_0 \\begin{pmatrix} 1 \\\\ 0 \\end{pmatrix} + c_1 \\begin{pmatrix} 0 \\\\ 1 \\end{pmatrix}$"
   ]
  },
  {
   "cell_type": "code",
   "execution_count": null,
   "metadata": {
    "slideshow": {
     "slide_type": "fragment"
    }
   },
   "outputs": [],
   "source": [
    "#psi0 = np.array([1,0])\n",
    "psi0 = np.array([1,1])*1/np.sqrt(2)\n",
    "print(psi0)"
   ]
  },
  {
   "cell_type": "markdown",
   "metadata": {
    "slideshow": {
     "slide_type": "subslide"
    }
   },
   "source": [
    "Evolve the state in time using $| \\psi_t \\rangle = U(t) | \\psi_0 \\rangle$ with $U(t) = e^{\\frac{-i H t}{\\hbar}}$"
   ]
  },
  {
   "cell_type": "code",
   "execution_count": null,
   "metadata": {
    "slideshow": {
     "slide_type": "fragment"
    }
   },
   "outputs": [],
   "source": [
    "time = np.linspace(0,0.95,96)\n",
    "psiT = []\n",
    "\n",
    "for t in time:\n",
    "    psiT.append(expm(-1j*H*t/hbar) @ psi0)"
   ]
  },
  {
   "cell_type": "markdown",
   "metadata": {
    "slideshow": {
     "slide_type": "subslide"
    }
   },
   "source": [
    "Save the expectation values of x, y and z (e.g. $\\langle \\psi_t | \\sigma_z | \\psi_t \\rangle$)"
   ]
  },
  {
   "cell_type": "code",
   "execution_count": null,
   "metadata": {
    "slideshow": {
     "slide_type": "fragment"
    }
   },
   "outputs": [],
   "source": [
    "x = [(p.conj().T @ sigmaX @ p).real for p in psiT]\n",
    "y = [(p.conj().T @ sigmaY @ p).real for p in psiT]\n",
    "z = [(p.conj().T @ sigmaZ @ p).real for p in psiT]"
   ]
  },
  {
   "cell_type": "markdown",
   "metadata": {
    "slideshow": {
     "slide_type": "subslide"
    }
   },
   "source": [
    "Plot the evolution of the state"
   ]
  },
  {
   "cell_type": "code",
   "execution_count": null,
   "metadata": {
    "slideshow": {
     "slide_type": "-"
    }
   },
   "outputs": [],
   "source": [
    "def qubitPlots(time,x,y,z):\n",
    "    bsPlot = qutip.Bloch()\n",
    "    bsPlot.add_points([x, y, z])\n",
    "    bsPlot.render(bsPlot.fig, bsPlot.axes)\n",
    "    bsPlot.fig.set_size_inches([25,5])\n",
    "\n",
    "    ax1 = bsPlot.fig.add_subplot(133)\n",
    "    ax1.plot(time,x,label=\"x\")\n",
    "    ax1.plot(time,y,label=\"y\")\n",
    "    ax1.plot(time,z,label=\"z\")\n",
    "    ax1.legend()\n",
    "    ax1.set_xlabel(\"Time\")\n",
    "    ax1.set_ylabel(\"Expectation value\")"
   ]
  },
  {
   "cell_type": "code",
   "execution_count": null,
   "metadata": {
    "slideshow": {
     "slide_type": "subslide"
    }
   },
   "outputs": [],
   "source": [
    "qubitPlots(time,x,y,z)"
   ]
  },
  {
   "cell_type": "markdown",
   "metadata": {
    "slideshow": {
     "slide_type": "slide"
    }
   },
   "source": [
    "# Qubit evolution in the rotating frame"
   ]
  },
  {
   "cell_type": "markdown",
   "metadata": {
    "slideshow": {
     "slide_type": "slide"
    }
   },
   "source": [
    "Define the Hamiltonian $\\mathcal{H} = \\frac{\\hbar}{2} ( \\Delta \\sigma_z + \\Omega_x \\sigma_x + \\Omega_y \\sigma_y )$"
   ]
  },
  {
   "cell_type": "code",
   "execution_count": null,
   "metadata": {
    "slideshow": {
     "slide_type": "-"
    }
   },
   "outputs": [],
   "source": [
    "delta = 0\n",
    "omegaX = 2 * np.pi\n",
    "omegaY = 0 * np.pi\n",
    "\n",
    "H = hbar/2 * ( delta*sigmaZ + omegaX*sigmaX + omegaY*sigmaY )\n",
    "print(H)"
   ]
  },
  {
   "cell_type": "code",
   "execution_count": null,
   "metadata": {
    "slideshow": {
     "slide_type": "subslide"
    }
   },
   "outputs": [],
   "source": [
    "psi0 = np.array([1,0])\n",
    "\n",
    "dTime = 0.01\n",
    "psiT = []\n",
    "\n",
    "psiT.append(psi0)\n",
    "for t in range(95):\n",
    "    psiT.append(expm(-1j*H*dTime/hbar) @ psiT[-1])\n",
    "    \n",
    "x = [(p.conj().T @ sigmaX @ p).real for p in psiT]\n",
    "y = [(p.conj().T @ sigmaY @ p).real for p in psiT]\n",
    "z = [(p.conj().T @ sigmaZ @ p).real for p in psiT]"
   ]
  },
  {
   "cell_type": "code",
   "execution_count": null,
   "metadata": {
    "slideshow": {
     "slide_type": "subslide"
    }
   },
   "outputs": [],
   "source": [
    "qubitPlots(time,x,y,z)"
   ]
  }
 ],
 "metadata": {
  "celltoolbar": "Slideshow",
  "kernelspec": {
   "display_name": "Python 3",
   "language": "python",
   "name": "python3"
  },
  "language_info": {
   "codemirror_mode": {
    "name": "ipython",
    "version": 3
   },
   "file_extension": ".py",
   "mimetype": "text/x-python",
   "name": "python",
   "nbconvert_exporter": "python",
   "pygments_lexer": "ipython3",
   "version": "3.8.5"
  }
 },
 "nbformat": 4,
 "nbformat_minor": 4
}
