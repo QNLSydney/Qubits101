{
 "cells": [
  {
   "cell_type": "code",
   "execution_count": 1,
   "metadata": {
    "editable": true,
    "slideshow": {
     "slide_type": "skip"
    },
    "tags": []
   },
   "outputs": [],
   "source": [
    "import numpy as np\n",
    "import matplotlib.pyplot as plt\n",
    "import qutip\n",
    "from scipy.linalg import expm\n",
    "from scipy.constants import hbar\n",
    "from scipy import signal"
   ]
  },
  {
   "cell_type": "markdown",
   "metadata": {
    "editable": true,
    "slideshow": {
     "slide_type": "slide"
    },
    "tags": []
   },
   "source": [
    "# Qubit evolution in the lab frame"
   ]
  },
  {
   "cell_type": "markdown",
   "metadata": {
    "editable": true,
    "slideshow": {
     "slide_type": "slide"
    },
    "tags": []
   },
   "source": [
    "Define the Pauli matrices\n",
    "\n",
    "$\\sigma_z = \\begin{pmatrix} 1 & 0 \\\\ 0 & -1 \\end{pmatrix}$ $\\sigma_x = \\begin{pmatrix} 0 & 1 \\\\ 1 & 0 \\end{pmatrix}$ $\\sigma_y = \\begin{pmatrix} 0 & -i \\\\ i & 0 \\end{pmatrix}$"
   ]
  },
  {
   "cell_type": "code",
   "execution_count": null,
   "metadata": {
    "editable": true,
    "slideshow": {
     "slide_type": "fragment"
    },
    "tags": []
   },
   "outputs": [],
   "source": [
    "sigmaZ = np.array([[1,0],\n",
    "                   [0,-1]])\n",
    "sigmaX = np.array([[0,1],\n",
    "                   [1,0]])\n",
    "sigmaY = np.array([[0,-1j],\n",
    "                   [1j,0]])"
   ]
  },
  {
   "cell_type": "markdown",
   "metadata": {
    "editable": true,
    "slideshow": {
     "slide_type": "slide"
    },
    "tags": []
   },
   "source": [
    "Define the Hamiltonian $\\mathcal{H} = \\frac{\\hbar}{2} \\omega \\sigma_z$"
   ]
  },
  {
   "cell_type": "code",
   "execution_count": null,
   "metadata": {
    "editable": true,
    "slideshow": {
     "slide_type": "fragment"
    },
    "tags": []
   },
   "outputs": [],
   "source": [
    "omega = 2 * np.pi\n",
    "\n",
    "H = hbar/2 * omega * sigmaZ\n",
    "print(H)"
   ]
  },
  {
   "cell_type": "code",
   "execution_count": null,
   "metadata": {
    "editable": true,
    "slideshow": {
     "slide_type": "skip"
    },
    "tags": []
   },
   "outputs": [],
   "source": []
  },
  {
   "cell_type": "markdown",
   "metadata": {
    "editable": true,
    "slideshow": {
     "slide_type": "slide"
    },
    "tags": []
   },
   "source": [
    "Define an initial state $| \\psi_0 \\rangle = c_0 \\begin{pmatrix} 1 \\\\ 0 \\end{pmatrix} + c_1 \\begin{pmatrix} 0 \\\\ 1 \\end{pmatrix}$"
   ]
  },
  {
   "cell_type": "code",
   "execution_count": null,
   "metadata": {
    "editable": true,
    "slideshow": {
     "slide_type": "fragment"
    },
    "tags": []
   },
   "outputs": [],
   "source": [
    "# psi0 = np.array([1,0])\n",
    "psi0 = np.array([1,1])*1/np.sqrt(2)\n",
    "print(psi0)"
   ]
  },
  {
   "cell_type": "code",
   "execution_count": null,
   "metadata": {
    "editable": true,
    "slideshow": {
     "slide_type": "skip"
    },
    "tags": []
   },
   "outputs": [],
   "source": []
  },
  {
   "cell_type": "markdown",
   "metadata": {
    "editable": true,
    "slideshow": {
     "slide_type": "subslide"
    },
    "tags": []
   },
   "source": [
    "Evolve the state in time using $| \\psi_t \\rangle = U(t) | \\psi_0 \\rangle$ with $U(t) = e^{\\frac{-i \\mathcal{H} t}{\\hbar}}$"
   ]
  },
  {
   "cell_type": "code",
   "execution_count": null,
   "metadata": {
    "editable": true,
    "slideshow": {
     "slide_type": "fragment"
    },
    "tags": []
   },
   "outputs": [],
   "source": [
    "time = np.linspace(0,0.95,96)\n",
    "psiT = []\n",
    "\n",
    "for t in time:\n",
    "    psiT.append(expm(-1j*H*t/hbar) @ psi0)"
   ]
  },
  {
   "cell_type": "markdown",
   "metadata": {
    "editable": true,
    "slideshow": {
     "slide_type": "subslide"
    },
    "tags": []
   },
   "source": [
    "Save the expectation values of x, y and z (e.g. $\\langle \\psi_t | \\sigma_z | \\psi_t \\rangle$)"
   ]
  },
  {
   "cell_type": "code",
   "execution_count": null,
   "metadata": {
    "editable": true,
    "slideshow": {
     "slide_type": "fragment"
    },
    "tags": []
   },
   "outputs": [],
   "source": [
    "x = [(p.conj().T @ sigmaX @ p).real for p in psiT]\n",
    "y = [(p.conj().T @ sigmaY @ p).real for p in psiT]\n",
    "z = [(p.conj().T @ sigmaZ @ p).real for p in psiT]"
   ]
  },
  {
   "cell_type": "markdown",
   "metadata": {
    "editable": true,
    "slideshow": {
     "slide_type": "subslide"
    },
    "tags": []
   },
   "source": [
    "Plot the evolution of the state"
   ]
  },
  {
   "cell_type": "code",
   "execution_count": null,
   "metadata": {
    "editable": true,
    "slideshow": {
     "slide_type": "-"
    },
    "tags": []
   },
   "outputs": [],
   "source": [
    "def qubitPlots(time,x,y,z):\n",
    "    bsPlot = qutip.Bloch()\n",
    "    bsPlot.add_points([x, y, z])\n",
    "    bsPlot.render()\n",
    "    bsPlot.fig.set_size_inches([25,5])\n",
    "\n",
    "    ax1 = bsPlot.fig.add_subplot(133)\n",
    "    ax1.plot(time,x,label=\"x\")\n",
    "    ax1.plot(time,y,label=\"y\")\n",
    "    ax1.plot(time,z,label=\"z\")\n",
    "    ax1.legend()\n",
    "    ax1.set_xlabel(\"Time\")\n",
    "    ax1.set_ylabel(\"Expectation value\")\n",
    "    bsPlot.show()"
   ]
  },
  {
   "cell_type": "code",
   "execution_count": null,
   "metadata": {
    "editable": true,
    "slideshow": {
     "slide_type": "subslide"
    },
    "tags": []
   },
   "outputs": [],
   "source": [
    "qubitPlots(time,x,y,z)"
   ]
  },
  {
   "cell_type": "code",
   "execution_count": null,
   "metadata": {
    "editable": true,
    "slideshow": {
     "slide_type": "skip"
    },
    "tags": []
   },
   "outputs": [],
   "source": []
  },
  {
   "cell_type": "markdown",
   "metadata": {
    "slideshow": {
     "slide_type": "subslide"
    }
   },
   "source": [
    "Let's add a drive term $\\mathcal{H} = \\frac{\\hbar}{2} \\left( \\omega \\sigma_z + \\Omega \\cos \\left( \\omega t \\right) \\sigma_x \\right)$"
   ]
  },
  {
   "cell_type": "code",
   "execution_count": null,
   "metadata": {
    "editable": true,
    "slideshow": {
     "slide_type": "-"
    },
    "tags": []
   },
   "outputs": [],
   "source": [
    "omegaStatic = 20 * np.pi\n",
    "omegaDrive = 2 * np.pi\n",
    "\n",
    "H = lambda t: hbar / 2 * (omegaStatic * sigmaZ + omegaDrive * np.cos(omegaStatic * t) * sigmaX)"
   ]
  },
  {
   "cell_type": "markdown",
   "metadata": {
    "slideshow": {
     "slide_type": "subslide"
    }
   },
   "source": [
    "With a time-dependent Hamiltonian, we need to evolve step-by-step"
   ]
  },
  {
   "cell_type": "code",
   "execution_count": null,
   "metadata": {
    "editable": true,
    "slideshow": {
     "slide_type": "-"
    },
    "tags": []
   },
   "outputs": [],
   "source": [
    "psi0 = np.array([1,0])\n",
    "\n",
    "time = np.linspace(0,1,1001)\n",
    "dTime = time[1] - time[0]\n",
    "psiT = []\n",
    "\n",
    "for t in time:\n",
    "    if t == 0:\n",
    "        psiT.append(psi0)\n",
    "    else:\n",
    "        psiT.append(expm(-1j*H(t)*dTime/hbar) @ psiT[-1])\n",
    "    \n",
    "x = [(p.conj().T @ sigmaX @ p).real for p in psiT]\n",
    "y = [(p.conj().T @ sigmaY @ p).real for p in psiT]\n",
    "z = [(p.conj().T @ sigmaZ @ p).real for p in psiT]"
   ]
  },
  {
   "cell_type": "code",
   "execution_count": null,
   "metadata": {
    "editable": true,
    "slideshow": {
     "slide_type": "subslide"
    },
    "tags": []
   },
   "outputs": [],
   "source": [
    "qubitPlots(time,x,y,z)"
   ]
  },
  {
   "cell_type": "code",
   "execution_count": null,
   "metadata": {
    "editable": true,
    "slideshow": {
     "slide_type": "skip"
    },
    "tags": []
   },
   "outputs": [],
   "source": []
  },
  {
   "cell_type": "markdown",
   "metadata": {
    "editable": true,
    "slideshow": {
     "slide_type": "slide"
    },
    "tags": []
   },
   "source": [
    "# Qubit evolution in the rotating frame"
   ]
  },
  {
   "cell_type": "markdown",
   "metadata": {
    "editable": true,
    "slideshow": {
     "slide_type": "slide"
    },
    "tags": []
   },
   "source": [
    "Define the Hamiltonian $\\mathcal{H} = \\frac{\\hbar}{2} ( \\Delta \\sigma_z + \\Omega_x \\sigma_x + \\Omega_y \\sigma_y )$"
   ]
  },
  {
   "cell_type": "code",
   "execution_count": null,
   "metadata": {
    "editable": true,
    "slideshow": {
     "slide_type": "-"
    },
    "tags": []
   },
   "outputs": [],
   "source": [
    "delta = 0 # 4 * np.pi\n",
    "omegaX = 2 * np.pi\n",
    "omegaY = 0 * np.pi\n",
    "\n",
    "H = hbar/2 * ( delta*sigmaZ + omegaX*sigmaX + omegaY*sigmaY )\n",
    "print(H)"
   ]
  },
  {
   "cell_type": "code",
   "execution_count": null,
   "metadata": {
    "editable": true,
    "slideshow": {
     "slide_type": "skip"
    },
    "tags": []
   },
   "outputs": [],
   "source": []
  },
  {
   "cell_type": "markdown",
   "metadata": {
    "editable": true,
    "slideshow": {
     "slide_type": "subslide"
    },
    "tags": []
   },
   "source": [
    "Define an initial state and evolve in time"
   ]
  },
  {
   "cell_type": "code",
   "execution_count": null,
   "metadata": {
    "editable": true,
    "slideshow": {
     "slide_type": "-"
    },
    "tags": []
   },
   "outputs": [],
   "source": [
    "psi0 = np.array([1,0])\n",
    "\n",
    "time = np.linspace(0,0.95,96)\n",
    "dTime = time[1] - time[0]\n",
    "psiT = []\n",
    "\n",
    "for t in time:\n",
    "    if t == 0:\n",
    "        psiT.append(psi0)\n",
    "    else:\n",
    "        psiT.append(expm(-1j*H*dTime/hbar) @ psiT[-1])\n",
    "    \n",
    "x = [(p.conj().T @ sigmaX @ p).real for p in psiT]\n",
    "y = [(p.conj().T @ sigmaY @ p).real for p in psiT]\n",
    "z = [(p.conj().T @ sigmaZ @ p).real for p in psiT]"
   ]
  },
  {
   "cell_type": "code",
   "execution_count": null,
   "metadata": {
    "editable": true,
    "slideshow": {
     "slide_type": "subslide"
    },
    "tags": []
   },
   "outputs": [],
   "source": [
    "qubitPlots(time,x,y,z)"
   ]
  },
  {
   "cell_type": "code",
   "execution_count": null,
   "metadata": {
    "editable": true,
    "slideshow": {
     "slide_type": "skip"
    },
    "tags": []
   },
   "outputs": [],
   "source": []
  },
  {
   "cell_type": "markdown",
   "metadata": {
    "editable": true,
    "slideshow": {
     "slide_type": "subslide"
    },
    "tags": []
   },
   "source": [
    "Let's add a detuning axis now"
   ]
  },
  {
   "cell_type": "code",
   "execution_count": null,
   "metadata": {
    "editable": true,
    "slideshow": {
     "slide_type": "-"
    },
    "tags": []
   },
   "outputs": [],
   "source": [
    "psi0 = np.array([1,0])\n",
    "\n",
    "time = np.linspace(0,3,301)\n",
    "dTime = time[1] - time[0]\n",
    "\n",
    "detunings = np.linspace(-4*np.pi, 4*np.pi, 51)\n",
    "psiT = []\n",
    "z = np.zeros([len(detunings),len(time)])\n",
    "\n",
    "for iDet, delta in enumerate(detunings):\n",
    "    H = hbar/2 * ( delta*sigmaZ + omegaX*sigmaX + omegaY*sigmaY )\n",
    "    for iTime, t in enumerate(time):\n",
    "        if t == 0:\n",
    "            psiT.append(psi0)\n",
    "        else:\n",
    "            psiT.append(expm(-1j*H*dTime/hbar) @ psiT[-1])\n",
    "            z[iDet, iTime] = (psiT[-1].conj().T @ sigmaZ @ psiT[-1]).real"
   ]
  },
  {
   "cell_type": "code",
   "execution_count": null,
   "metadata": {
    "editable": true,
    "slideshow": {
     "slide_type": "subslide"
    },
    "tags": []
   },
   "outputs": [],
   "source": [
    "plt.pcolormesh(time, detunings, z, shading=\"nearest\")\n",
    "plt.xlabel(\"Time\")\n",
    "plt.ylabel(\"Detuning\")"
   ]
  },
  {
   "cell_type": "code",
   "execution_count": null,
   "metadata": {
    "editable": true,
    "slideshow": {
     "slide_type": "skip"
    },
    "tags": []
   },
   "outputs": [],
   "source": []
  },
  {
   "cell_type": "markdown",
   "metadata": {
    "slideshow": {
     "slide_type": "slide"
    }
   },
   "source": [
    "# Qubit decoherence"
   ]
  },
  {
   "cell_type": "markdown",
   "metadata": {
    "slideshow": {
     "slide_type": "fragment"
    }
   },
   "source": [
    "## Dephasing noise"
   ]
  },
  {
   "cell_type": "markdown",
   "metadata": {},
   "source": [
    "Noise that modulates the qubit splitting (i.e. along the quantization axis). In most cases, this noise is pink. Let's create an array sampled from a spectrum $S_N = \\frac{S_0}{\\omega}$, and add it to the detuning term in the Hamiltonian."
   ]
  },
  {
   "cell_type": "code",
   "execution_count": null,
   "metadata": {
    "slideshow": {
     "slide_type": "fragment"
    }
   },
   "outputs": [],
   "source": [
    "N = 1001\n",
    "fs = 1000\n",
    "wNoise = np.random.normal(0,50,N)\n",
    "b,a = signal.butter(1, [0.01, 0.5], btype=\"band\", fs=fs)\n",
    "pNoise = signal.lfilter(b,a,wNoise)\n",
    "\n",
    "H = lambda n: hbar/2 * (n * sigmaZ)"
   ]
  },
  {
   "cell_type": "markdown",
   "metadata": {
    "slideshow": {
     "slide_type": "subslide"
    }
   },
   "source": [
    "Start with a superposition state and evolve our noisy Hamiltonian"
   ]
  },
  {
   "cell_type": "code",
   "execution_count": null,
   "metadata": {},
   "outputs": [],
   "source": [
    "psi0 = np.array([1,1])*1/np.sqrt(2)\n",
    "\n",
    "time = np.linspace(0,0.95,N)\n",
    "dTime = time[1] - time[0]\n",
    "psiT = []\n",
    "\n",
    "for t,n in zip(time,pNoise):\n",
    "    if t == 0:\n",
    "        psiT.append(psi0)\n",
    "    else:\n",
    "        psiT.append(expm(-1j*H(n)*dTime/hbar) @ psiT[-1])\n",
    "    \n",
    "x = [(p.conj().T @ sigmaX @ p).real for p in psiT]\n",
    "y = [(p.conj().T @ sigmaY @ p).real for p in psiT]\n",
    "z = [(p.conj().T @ sigmaZ @ p).real for p in psiT]"
   ]
  },
  {
   "cell_type": "code",
   "execution_count": null,
   "metadata": {
    "slideshow": {
     "slide_type": "subslide"
    }
   },
   "outputs": [],
   "source": [
    "qubitPlots(time,x,y,z)"
   ]
  },
  {
   "cell_type": "code",
   "execution_count": null,
   "metadata": {
    "slideshow": {
     "slide_type": "skip"
    }
   },
   "outputs": [],
   "source": []
  },
  {
   "cell_type": "markdown",
   "metadata": {},
   "source": [
    "## Characterising and decoupling dephasing noise"
   ]
  },
  {
   "cell_type": "markdown",
   "metadata": {},
   "source": [
    "### Ramsey fringes - $T_2^*$"
   ]
  },
  {
   "cell_type": "markdown",
   "metadata": {},
   "source": [
    "In this experiment we apply a $\\pi / 2$ gate to prepare the spin on the x-y plane of the Bloch sphere, wait some time $\\tau$ and apply another $\\pi / 2$ gate to attempt to bring the spin back to the quantization axis.\n",
    "\n",
    "In the simulation of this pulse sequence, we assume that we can apply a perfect $\\pi / 2$ gate, and apply the unitary directly."
   ]
  },
  {
   "cell_type": "code",
   "execution_count": null,
   "metadata": {},
   "outputs": [],
   "source": []
  }
 ],
 "metadata": {
  "celltoolbar": "Slideshow",
  "kernelspec": {
   "display_name": "Python 3 (ipykernel)",
   "language": "python",
   "name": "python3"
  },
  "language_info": {
   "codemirror_mode": {
    "name": "ipython",
    "version": 3
   },
   "file_extension": ".py",
   "mimetype": "text/x-python",
   "name": "python",
   "nbconvert_exporter": "python",
   "pygments_lexer": "ipython3",
   "version": "3.12.5"
  }
 },
 "nbformat": 4,
 "nbformat_minor": 4
}
